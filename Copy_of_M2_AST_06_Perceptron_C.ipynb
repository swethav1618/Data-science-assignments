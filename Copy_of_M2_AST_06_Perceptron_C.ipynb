{
  "cells": [
    {
      "cell_type": "markdown",
      "metadata": {
        "id": "5QxHbZyHOhXD"
      },
      "source": [
        "# Applied Data Science and Machine Learning\n",
        "## A program by IITM and TalentSprint\n",
        "### Assignment 06: Perceptron"
      ]
    },
    {
      "cell_type": "markdown",
      "metadata": {
        "id": "o2WYpEkJUNl_"
      },
      "source": [
        "## Learning Objectives"
      ]
    },
    {
      "cell_type": "markdown",
      "metadata": {
        "id": "MQOkgatUUNl_"
      },
      "source": [
        "At the end of the experiment, you will be able to\n",
        "\n",
        "- understand the concept of Perceptron\n",
        "- experiment using the perceptron algorithm\n"
      ]
    },
    {
      "cell_type": "markdown",
      "metadata": {
        "id": "clI1uRXfpxLW"
      },
      "source": [
        "### Setup Steps:"
      ]
    },
    {
      "cell_type": "code",
      "execution_count": null,
      "metadata": {
        "id": "v2Y0Dv1HpxLX"
      },
      "outputs": [],
      "source": [
        "#@title Please enter your registration id to start: { run: \"auto\", display-mode: \"form\" }\n",
        "Id = \"\" #@param {type:\"string\"}"
      ]
    },
    {
      "cell_type": "code",
      "execution_count": null,
      "metadata": {
        "id": "Ns2n1UW9pxLY"
      },
      "outputs": [],
      "source": [
        "#@title Please enter your password (your registered phone number) to continue: { run: \"auto\", display-mode: \"form\" }\n",
        "password = \"\" #@param {type:\"string\"}"
      ]
    },
    {
      "cell_type": "code",
      "execution_count": null,
      "metadata": {
        "cellView": "form",
        "id": "43TBvP8RpxLY"
      },
      "outputs": [],
      "source": [
        "#@title Run this cell to complete the setup for this Notebook\n",
        "from IPython import get_ipython\n",
        "\n",
        "ipython = get_ipython()\n",
        "\n",
        "notebook= \"M2_AST_06_Perceptron_C\" #name of the notebook\n",
        "\n",
        "def setup():\n",
        "#  ipython.magic(\"sx pip3 install torch\")\n",
        "    from IPython.display import HTML, display\n",
        "    ipython.magic(\"sx wget https://cdn.talentsprint.com/aiml/Experiment_related_data/Iris.csv\")\n",
        "    display(HTML('<script src=\"https://dashboard.talentsprint.com/aiml/record_ip.html?traineeId={0}&recordId={1}\"></script>'.format(getId(),submission_id)))\n",
        "    print(\"Setup completed successfully\")\n",
        "    return\n",
        "\n",
        "def submit_notebook():\n",
        "    ipython.magic(\"notebook -e \"+ notebook + \".ipynb\")\n",
        "\n",
        "    import requests, json, base64, datetime\n",
        "\n",
        "    url = \"https://dashboard.talentsprint.com/xp/app/save_notebook_attempts\"\n",
        "    if not submission_id:\n",
        "      data = {\"id\" : getId(), \"notebook\" : notebook, \"mobile\" : getPassword()}\n",
        "      r = requests.post(url, data = data)\n",
        "      r = json.loads(r.text)\n",
        "\n",
        "      if r[\"status\"] == \"Success\":\n",
        "          return r[\"record_id\"]\n",
        "      elif \"err\" in r:\n",
        "        print(r[\"err\"])\n",
        "        return None\n",
        "      else:\n",
        "        print (\"Something is wrong, the notebook will not be submitted for grading\")\n",
        "        return None\n",
        "\n",
        "    elif getAnswer() and getComplexity() and getAdditional() and getConcepts() and getComments() and getMentorSupport():\n",
        "      f = open(notebook + \".ipynb\", \"rb\")\n",
        "      file_hash = base64.b64encode(f.read())\n",
        "\n",
        "      data = {\"complexity\" : Complexity, \"additional\" :Additional,\n",
        "              \"concepts\" : Concepts, \"record_id\" : submission_id,\n",
        "              \"answer\" : Answer, \"id\" : Id, \"file_hash\" : file_hash,\n",
        "              \"notebook\" : notebook,\n",
        "              \"feedback_experiments_input\" : Comments,\n",
        "              \"feedback_mentor_support\": Mentor_support}\n",
        "      r = requests.post(url, data = data)\n",
        "      r = json.loads(r.text)\n",
        "      if \"err\" in r:\n",
        "        print(r[\"err\"])\n",
        "        return None\n",
        "      else:\n",
        "        print(\"Your submission is successful.\")\n",
        "        print(\"Ref Id:\", submission_id)\n",
        "        print(\"Date of submission: \", r[\"date\"])\n",
        "        print(\"Time of submission: \", r[\"time\"])\n",
        "        print(\"View your submissions: https://adsml-iitm.talentsprint.com/notebook_submissions\")\n",
        "        #print(\"For any queries/discrepancies, please connect with mentors through the chat icon in LMS dashboard.\")\n",
        "        return submission_id\n",
        "    else: submission_id\n",
        "\n",
        "\n",
        "def getAdditional():\n",
        "  try:\n",
        "    if not Additional:\n",
        "      raise NameError\n",
        "    else:\n",
        "      return Additional\n",
        "  except NameError:\n",
        "    print (\"Please answer Additional Question\")\n",
        "    return None\n",
        "\n",
        "def getComplexity():\n",
        "  try:\n",
        "    if not Complexity:\n",
        "      raise NameError\n",
        "    else:\n",
        "      return Complexity\n",
        "  except NameError:\n",
        "    print (\"Please answer Complexity Question\")\n",
        "    return None\n",
        "\n",
        "def getConcepts():\n",
        "  try:\n",
        "    if not Concepts:\n",
        "      raise NameError\n",
        "    else:\n",
        "      return Concepts\n",
        "  except NameError:\n",
        "    print (\"Please answer Concepts Question\")\n",
        "    return None\n",
        "\n",
        "\n",
        "# def getWalkthrough():\n",
        "#   try:\n",
        "#     if not Walkthrough:\n",
        "#       raise NameError\n",
        "#     else:\n",
        "#       return Walkthrough\n",
        "#   except NameError:\n",
        "#     print (\"Please answer Walkthrough Question\")\n",
        "#     return None\n",
        "\n",
        "def getComments():\n",
        "  try:\n",
        "    if not Comments:\n",
        "      raise NameError\n",
        "    else:\n",
        "      return Comments\n",
        "  except NameError:\n",
        "    print (\"Please answer Comments Question\")\n",
        "    return None\n",
        "\n",
        "\n",
        "def getMentorSupport():\n",
        "  try:\n",
        "    if not Mentor_support:\n",
        "      raise NameError\n",
        "    else:\n",
        "      return Mentor_support\n",
        "  except NameError:\n",
        "    print (\"Please answer Mentor support Question\")\n",
        "    return None\n",
        "\n",
        "def getAnswer():\n",
        "  try:\n",
        "    if not Answer:\n",
        "      raise NameError\n",
        "    else:\n",
        "      return Answer\n",
        "  except NameError:\n",
        "    print (\"Please answer Question\")\n",
        "    return None\n",
        "\n",
        "\n",
        "def getId():\n",
        "  try:\n",
        "    return Id if Id else None\n",
        "  except NameError:\n",
        "    return None\n",
        "\n",
        "def getPassword():\n",
        "  try:\n",
        "    return password if password else None\n",
        "  except NameError:\n",
        "    return None\n",
        "\n",
        "submission_id = None\n",
        "### Setup\n",
        "if getPassword() and getId():\n",
        "  submission_id = submit_notebook()\n",
        "  if submission_id:\n",
        "    setup()\n",
        "else:\n",
        "  print (\"Please complete Id and Password cells before running setup\")\n",
        "\n"
      ]
    },
    {
      "cell_type": "code",
      "source": [],
      "metadata": {
        "id": "10WMLC5ZuA7D"
      },
      "execution_count": 3,
      "outputs": []
    },
    {
      "cell_type": "markdown",
      "metadata": {
        "id": "3DS2llW6UNmA"
      },
      "source": [
        "### Introduction"
      ]
    },
    {
      "cell_type": "markdown",
      "metadata": {
        "id": "E8o5njJtUNmA"
      },
      "source": [
        "Artificial Neural Network (ANN) is a Machine Learning model inspired by the networks of biological neurons found in our brains."
      ]
    },
    {
      "cell_type": "markdown",
      "metadata": {
        "id": "BRPf1QX7UNmB"
      },
      "source": [
        "#### Biological Neurons"
      ]
    },
    {
      "cell_type": "markdown",
      "metadata": {
        "id": "Hw1ifp0HUNmB"
      },
      "source": [
        "Biological neurons send and receive signals from the brain. The main component functions of a neuron are - Dendrite: Receives signals from other neurons; Soma: Processes the information; Axon: Transmits the output of this neuron; Synapse: Point of connection to other neurons.\n",
        "\n",
        "<center>\n",
        "<img src=\"https://upload.wikimedia.org/wikipedia/commons/1/10/Blausen_0657_MultipolarNeuron.png\" width= 500 px/>\n",
        "</center>\n",
        "\n",
        "Individual biological neurons are organized in a vast network of billions, with each neuron typically connected to thousands of other neurons. Highly complex computations can be performed by a network of fairly simple neurons.\n"
      ]
    },
    {
      "cell_type": "markdown",
      "metadata": {
        "id": "V89Kc7-QUNmC"
      },
      "source": [
        "#### Artificial Neurons"
      ]
    },
    {
      "cell_type": "markdown",
      "metadata": {
        "id": "qKdTy3JEUNmC"
      },
      "source": [
        "Modeled after human brain activity, artificial neurons are digital constructs that simulate the behavior of biological neurons in some ways. The first computational model of an (artificial) neuron was proposed by Warren McCulloch (neuroscientist) and Walter Pitts (logician) in 1943.\n",
        "\n",
        "As shown below, it may be divided into 2 parts. The first part, g takes an input, performs aggregation, and based on the aggregated value, the second part, f, makes a decision. Understand further through an example 'Watch a football game' in this [article](https://towardsdatascience.com/mcculloch-pitts-model-5fdf65ac5dd1).\n",
        "\n",
        "<br><br>\n",
        "<center>\n",
        "<img src=\"https://miro.medium.com/max/369/1*fDHlg9iNo0LLK4czQqqO9A.png\" width= 320px/>\n",
        "</center>\n",
        "\n",
        "<br><br>\n"
      ]
    },
    {
      "cell_type": "markdown",
      "metadata": {
        "id": "ghlEu96VUNmD"
      },
      "source": [
        "### The Perceptron"
      ]
    },
    {
      "cell_type": "markdown",
      "metadata": {
        "id": "KBkkBAD8UNmD"
      },
      "source": [
        "The Perceptron is one of the simplest ANN architectures, invented in 1957 by Frank Rosenblatt. It is based on a slightly different artificial neuron (shown in the figure below) called a **threshold logic unit (TLU)**. The inputs and the output are numbers (instead of binary on/off values), and each input connection is associated with a weight. The TLU computes a weighted sum of its inputs $$(z = w_1 x_1 + w_2 x_2 + ⋯ + w_n x_n = x^⊺ w)$$, then applies a step function to that sum and outputs the result: $$h_w(x) = step(z)$$, where $z = x^⊺ w$.\n",
        "<br><br>\n",
        "<center>\n",
        "<img src=\"https://www.oreilly.com/api/v2/epubs/9781492037354/files/assets/mlst_1004.png\" width= 400px/>\n",
        "</center>\n",
        "\n",
        "$\\hspace{10cm} \\text {Threshold logic unit}$\n",
        "<br><br>\n",
        "The most common step function used in Perceptrons is the Heaviside step function. Sometimes the sign function is used instead.\n",
        "\n",
        "$$heaviside (z) = \\begin{equation}\n",
        "\\left\\{\n",
        "  \\begin{aligned}\n",
        "    &0&  if\\ \\  z < 0\\\\\n",
        "    &1&  if\\ \\  z \\ge 0\\\\\n",
        "  \\end{aligned}\n",
        "  \\right.\n",
        "\\end{equation}\n",
        "$$\n",
        "\n",
        "$$sgn (z) = \\begin{equation}\n",
        "\\left\\{\n",
        "  \\begin{aligned}\n",
        "    &-1&  if\\ \\  z < 0\\\\\n",
        "    &0&  if\\ \\  z = 0\\\\\n",
        "    &1&  if\\ \\  z > 0\\\\\n",
        "  \\end{aligned}\n",
        "  \\right.\n",
        "\\end{equation}\n",
        "$$\n",
        "\n",
        "A single TLU can be used for simple linear binary classification. It computes a linear combination of the inputs, and if the result exceeds a threshold, it outputs the positive class. Otherwise, it outputs the negative class.\n",
        "\n",
        "\n",
        "\n",
        "The decision boundary of each output neuron is linear, so Perceptrons are incapable of learning complex patterns (just like Logistic Regression classifiers). However, if the training instances are linearly separable, Rosenblatt demonstrated that this algorithm would converge to a solution. This is called the Perceptron convergence theorem."
      ]
    },
    {
      "cell_type": "markdown",
      "metadata": {
        "id": "nFEZUAvJdXcW"
      },
      "source": [
        "\n",
        "\n",
        "## Dataset"
      ]
    },
    {
      "cell_type": "markdown",
      "metadata": {
        "id": "Kz2T6C2MrPp6"
      },
      "source": [
        "#### History\n",
        "\n",
        "This is a multivariate dataset introduced by R.A.Fisher (Father of Modern Statistics) for showcasing linear discriminant analysis. This is arguably the best known dataset in Feature Selection literature.\n",
        "\n",
        "\n",
        "The data set contains 3 classes of 50 instances each, where each class refers to a type of iris plant. One class is linearly separable from the other 2; the latter are NOT linearly separable from each other."
      ]
    },
    {
      "cell_type": "markdown",
      "metadata": {
        "id": "62AAQoRKrQIK"
      },
      "source": [
        "#### Description\n",
        "The Iris dataset consists of 150 data instances. There are 3 classes (Iris Versicolor, Iris Setosa, and Iris Virginica) each has 50 instances.\n",
        "\n",
        "\n",
        "For each flower, we have the below data attributes\n",
        "\n",
        "- sepal length in cm\n",
        "- sepal width in cm\n",
        "- petal length in cm\n",
        "- petal width in cm\n"
      ]
    },
    {
      "cell_type": "markdown",
      "metadata": {
        "id": "06lEbv7grYmm"
      },
      "source": [
        "## Domain Information"
      ]
    },
    {
      "cell_type": "markdown",
      "metadata": {
        "id": "QIB3dtlNrWy6"
      },
      "source": [
        "\n",
        "\n",
        "Iris Plants are flowering plants with showy flowers. They are very popular among movie directors as it gives an excellent background.\n",
        "\n",
        "They are predominantly found in dry, semi-desert, or colder rocky mountainous areas in Europe and Asia. They have long, erect flowering stems and can produce white, yellow, orange, pink, purple, lavender, blue, or brown colored flowers. There are 260 to 300 types of iris.\n",
        "\n",
        "![alt text](https://cdn-images-1.medium.com/max/1275/1*7bnLKsChXq94QjtAiRn40w.png)\n",
        "\n",
        "As you could see, flowers have 3 sepals and 3 petals.  The sepals are usually spreading or drop downwards and the petals stand upright, partly behind the sepal bases. However, the length and width of the sepals and petals vary for each type.\n"
      ]
    },
    {
      "cell_type": "markdown",
      "metadata": {
        "id": "Psn-z1duUNmA"
      },
      "source": [
        "### Import required packages"
      ]
    },
    {
      "cell_type": "code",
      "execution_count": null,
      "metadata": {
        "id": "ULpxRHv-UNmA"
      },
      "outputs": [],
      "source": [
        "import numpy as np\n",
        "import pandas as pd\n",
        "import matplotlib.pyplot as plt\n",
        "from tensorflow import keras\n",
        "from sklearn import datasets\n",
        "from sklearn.preprocessing import StandardScaler\n",
        "from sklearn.linear_model import Perceptron\n",
        "from sklearn.metrics import accuracy_score"
      ]
    },
    {
      "cell_type": "markdown",
      "metadata": {
        "id": "AKPhAgnZIdIp"
      },
      "source": [
        "### Load the Data"
      ]
    },
    {
      "cell_type": "code",
      "execution_count": null,
      "metadata": {
        "id": "HEXS-fVb3aQK"
      },
      "outputs": [],
      "source": [
        "# Load data using Pandas\n",
        "iris = pd.read_csv(\"Iris.csv\")\n",
        "iris.head()"
      ]
    },
    {
      "cell_type": "code",
      "execution_count": null,
      "metadata": {
        "id": "Q5a-0ZiUF8JR"
      },
      "outputs": [],
      "source": [
        "iris.shape"
      ]
    },
    {
      "cell_type": "code",
      "execution_count": null,
      "metadata": {
        "id": "hNJ_Zjc-uqxn"
      },
      "outputs": [],
      "source": [
        "# As we see the data is in dequential order, lets shuffle the data using .sample()\n",
        "df = iris.sample(frac = 1)\n",
        "df.head()"
      ]
    },
    {
      "cell_type": "code",
      "source": [
        "df"
      ],
      "metadata": {
        "id": "Z4W5j-xKhrKF"
      },
      "execution_count": null,
      "outputs": []
    },
    {
      "cell_type": "markdown",
      "metadata": {
        "id": "5vM_gYwtc4w_"
      },
      "source": [
        "### Data pre-processing\n",
        "\n",
        "1. **species** is our target variable. Drop Iris-virginica from species column. Select Iris-setosa and Iris-versicolor as your target varaible.\n",
        "\n",
        "2. Converting categorical values to numerical values where species contain categorical values such as 'Iris-setosa', 'Iris-virginica' and replacing them with with 1, 0\n"
      ]
    },
    {
      "cell_type": "code",
      "execution_count": null,
      "metadata": {
        "id": "tmxRvsoQQhrq"
      },
      "outputs": [],
      "source": [
        "df.drop('Id',axis = 1,inplace = True)\n",
        "df.head()"
      ]
    },
    {
      "cell_type": "markdown",
      "metadata": {
        "id": "9QdQjv84Qkr1"
      },
      "source": [
        "From the above data select only 2 species 'Iris-setosa', 'Iris-versicolor'"
      ]
    },
    {
      "cell_type": "code",
      "execution_count": null,
      "metadata": {
        "id": "hyetq526Fldw"
      },
      "outputs": [],
      "source": [
        "df = df[df['species'] != 'Iris-virginica']"
      ]
    },
    {
      "cell_type": "code",
      "source": [
        "df.head()"
      ],
      "metadata": {
        "id": "hrP_zzt62V3G"
      },
      "execution_count": null,
      "outputs": []
    },
    {
      "cell_type": "code",
      "execution_count": null,
      "metadata": {
        "id": "8TrPnTs5FkGc"
      },
      "outputs": [],
      "source": [
        "# From the above we have selected only setosa and versicolor and not virginica (!='virginica')\n",
        "df['species'] = df['species'].replace(['Iris-setosa','Iris-versicolor'],[1, 0])"
      ]
    },
    {
      "cell_type": "code",
      "execution_count": null,
      "metadata": {
        "id": "8a3Hf9vvGKE1"
      },
      "outputs": [],
      "source": [
        "df.loc[[5, 60, 90]]  # Select few samples to see the DataFrame"
      ]
    },
    {
      "cell_type": "markdown",
      "metadata": {
        "id": "ReukxR8xtI4h"
      },
      "source": [
        "### Single Layer Perceptron\n",
        "\n",
        "A node, also called a neuron or Perceptron, is a computational unit that has one or more weighted input connections. Use a transfer function that combines the inputs and gives the output connection. Nodes are then organized into layers to comprise a network.\n",
        "\n",
        "Let us see how the output is measured at each neuron"
      ]
    },
    {
      "cell_type": "markdown",
      "metadata": {
        "id": "ByNIWjOjjnA6"
      },
      "source": [
        "![alt text](https://cdn.talentsprint.com/aiml/Experiment_related_data/artificial_neuron.png)"
      ]
    },
    {
      "cell_type": "markdown",
      "metadata": {
        "id": "ZhNiaTvy7Q1k"
      },
      "source": [
        "### Part-A: Understand Perceptron using mathematical approach"
      ]
    },
    {
      "cell_type": "markdown",
      "metadata": {
        "id": "QGqNXsDw9EAk"
      },
      "source": [
        "#### Performing for only one sample"
      ]
    },
    {
      "cell_type": "code",
      "execution_count": null,
      "metadata": {
        "id": "MVQuLqqwJa2w"
      },
      "outputs": [],
      "source": [
        "# Let us take 5th sample as input x1, x2, x3, x4\n",
        "one_neuron_inputs  = np.array([5.4, 3.9,  1.7,  0.4])\n",
        "thresh = 5.0\n",
        "weights = np.array([0.7, 0.6, -1.0, -1.0]) # You can give the random weights w1, w2, w3, w4"
      ]
    },
    {
      "cell_type": "code",
      "execution_count": null,
      "metadata": {
        "id": "Any5_zQ8JiSU"
      },
      "outputs": [],
      "source": [
        "# This function returns the sum of product of inputs and weights\n",
        "def weighted_sum(inputs, weights):\n",
        "\n",
        "    return np.dot(inputs,weights)"
      ]
    },
    {
      "cell_type": "code",
      "execution_count": null,
      "metadata": {
        "id": "cgK-1gTbKxwU"
      },
      "outputs": [],
      "source": [
        "# Output of first neuron\n",
        "perceptron = np.dot(one_neuron_inputs, weights)>thresh # single line perceptron\n",
        "print(perceptron)"
      ]
    },
    {
      "cell_type": "markdown",
      "metadata": {
        "id": "BBmpQCVbLcE1"
      },
      "source": [
        "**Activation Function**\n",
        "\n",
        "\n",
        "A Step Function is one of the most common activation function in neural networks. The function produces binary output.\n",
        "\n",
        "The output is a certain value, $A_1$, if the input sum is above a certain threshold and $A_0$ if the input sum is below a certain threshold. The values used by the Perceptron were $A_1$ = 1 and $A_0$ = 0.\n",
        "\n",
        "![alt text](https://cdn.talentsprint.com/aiml/Experiment_related_data/step_function.png)\n",
        "\n",
        "\n",
        "These kinds of step activation functions are useful for binary classification schemes. In other words, when we want to classify an input pattern into one of two groups, we can use a binary classifier with a step activation function. Another use for this would be to create a set of small feature identifiers. Each identifier would be a small network that would output a 1 if a particular input feature is present, and a 0 otherwise. Combining multiple feature detectors into a single network would allow a very complicated clustering or classification problem to be solved."
      ]
    },
    {
      "cell_type": "code",
      "execution_count": null,
      "metadata": {
        "id": "2KstuluQK66G"
      },
      "outputs": [],
      "source": [
        "def Step_Fun(number):\n",
        "    if number >= 2: # Threshold value is 2\n",
        "        return 1\n",
        "    else:\n",
        "        return 0"
      ]
    },
    {
      "cell_type": "markdown",
      "metadata": {
        "id": "RmUoLx2q2dUV"
      },
      "source": [
        "#### Performing for all samples\n",
        "\n",
        "Performing weigthed sum  and Step function for each of the feature by taking random weights and finding accuracy for actuals and predictions."
      ]
    },
    {
      "cell_type": "code",
      "execution_count": null,
      "metadata": {
        "id": "4lZFxhc1yBQV"
      },
      "outputs": [],
      "source": [
        "samples = df.iloc[:, :4].values\n",
        "predicted = []\n",
        "weights = [0.7, 0.6, -1.0, -1.0] # Change the weights and observe the change in accuracy\n",
        "for sample in samples:\n",
        "    Node_input = weighted_sum(sample, weights)\n",
        "    Node_output = Step_Fun(Node_input)\n",
        "    predicted.append(Node_output)\n",
        "\n",
        "actual = df.iloc[:, 4].values\n",
        "print(\"Actual labels from the data\", actual)\n",
        "print(\"\\n Predicted labels\", predicted)\n",
        "\n",
        "acc = accuracy_score(actual, predicted)\n",
        "print(\"Accuracy of the Perceptron using mathematical approach\", acc)"
      ]
    },
    {
      "cell_type": "code",
      "execution_count": null,
      "metadata": {
        "id": "oTb8uDKPLswI"
      },
      "outputs": [],
      "source": [
        "# Apply the step function where it returns one if node input value is greater than or equal to 2, otherwise returns zero\n",
        "Node_output = Step_Fun(Node_input)\n",
        "print(Node_output)"
      ]
    },
    {
      "cell_type": "markdown",
      "metadata": {
        "id": "RYzQxPGMpof5"
      },
      "source": [
        "### Part- B: Perceptron from Sklearn\n",
        "\n",
        "1. From the given data, Select features and labels\n",
        "2. Split the data into train and test sets\n",
        "3. Train using perceptron Classifier"
      ]
    },
    {
      "cell_type": "code",
      "execution_count": null,
      "metadata": {
        "id": "YlqP5Y-lYFDD"
      },
      "outputs": [],
      "source": [
        "labels = df['species']\n",
        "features = df.drop('species', axis = 1)"
      ]
    },
    {
      "cell_type": "code",
      "execution_count": null,
      "metadata": {
        "id": "eGKkSJFkrvtH"
      },
      "outputs": [],
      "source": [
        "from sklearn.model_selection import train_test_split\n",
        "xtrain, xtest, ytrain, ytest = train_test_split(features, labels, test_size = 0.2)"
      ]
    },
    {
      "cell_type": "code",
      "execution_count": null,
      "metadata": {
        "id": "GZvgKOJmrxYE"
      },
      "outputs": [],
      "source": [
        "from sklearn.linear_model import Perceptron\n",
        "model = Perceptron()\n",
        "# Fitting the data into the model\n",
        "model.fit(xtrain, ytrain)\n",
        "# Predicting the labels for test data\n",
        "accuracy = model.score(xtest, ytest)\n",
        "print(\"Accuracy of the Perceptron using sklearn\", accuracy)"
      ]
    },
    {
      "cell_type": "markdown",
      "metadata": {
        "id": "tIXvVFHfNHSC"
      },
      "source": [
        "# Please answer the questions below to complete the experiment:\n",
        "\n",
        "\n"
      ]
    },
    {
      "cell_type": "code",
      "execution_count": null,
      "metadata": {
        "id": "vBssUAioZvhE"
      },
      "outputs": [],
      "source": [
        "# @title What is the name of the function in the following statement “A perceptron adds up all the weighted inputs it receives, and if it exceeds a certain value, its output is 1, otherwise its output is 0”?   { run: \"auto\", form-width: \"500px\", display-mode: \"form\" }\n",
        "Answer = \"\" #@param [\"\",\"Logistic function\", \"Heaviside step function\", \"Piece-wise linear function\"]"
      ]
    },
    {
      "cell_type": "code",
      "execution_count": null,
      "metadata": {
        "id": "i52i69Ltp9UF"
      },
      "outputs": [],
      "source": [
        "#@title How was the experiment? { run: \"auto\", form-width: \"500px\", display-mode: \"form\" }\n",
        "Complexity = \"\" #@param [\"\",\"Too Simple, I am wasting time\", \"Good, But Not Challenging for me\", \"Good and Challenging for me\", \"Was Tough, but I did it\", \"Too Difficult for me\"]\n"
      ]
    },
    {
      "cell_type": "code",
      "execution_count": null,
      "metadata": {
        "id": "BV3kOseop9UF"
      },
      "outputs": [],
      "source": [
        "#@title If it was too easy, what more would you have liked to be added? If it was very difficult, what would you have liked to have been removed? { run: \"auto\", display-mode: \"form\" }\n",
        "Additional = \"\" #@param {type:\"string\"}\n"
      ]
    },
    {
      "cell_type": "code",
      "execution_count": null,
      "metadata": {
        "id": "5vuo5jzyp9UG"
      },
      "outputs": [],
      "source": [
        "#@title Can you identify the concepts from the lecture which this experiment covered? { run: \"auto\", vertical-output: true, display-mode: \"form\" }\n",
        "Concepts = \"\" #@param [\"\",\"Yes\", \"No\"]\n"
      ]
    },
    {
      "cell_type": "code",
      "execution_count": null,
      "metadata": {
        "id": "wGYFNb2rp9UG"
      },
      "outputs": [],
      "source": [
        "#@title  Text and image description/explanation and code comments within the experiment: { run: \"auto\", vertical-output: true, display-mode: \"form\" }\n",
        "Comments = \"\" #@param [\"\",\"Very Useful\", \"Somewhat Useful\", \"Not Useful\", \"Didn't use\"]\n"
      ]
    },
    {
      "cell_type": "code",
      "execution_count": null,
      "metadata": {
        "id": "rhqhDIqap9UG"
      },
      "outputs": [],
      "source": [
        "#@title Mentor Support: { run: \"auto\", vertical-output: true, display-mode: \"form\" }\n",
        "Mentor_support = \"\" #@param [\"\",\"Very Useful\", \"Somewhat Useful\", \"Not Useful\", \"Didn't use\"]\n"
      ]
    },
    {
      "cell_type": "code",
      "execution_count": null,
      "metadata": {
        "cellView": "form",
        "id": "h-pRrB72p9UH"
      },
      "outputs": [],
      "source": [
        "#@title Run this cell to submit your notebook for grading { vertical-output: true }\n",
        "try:\n",
        "  if submission_id:\n",
        "      return_id = submit_notebook()\n",
        "      if return_id : submission_id = return_id\n",
        "  else:\n",
        "      print(\"Please complete the setup first.\")\n",
        "except NameError:\n",
        "  print (\"Please complete the setup first.\")"
      ]
    }
  ],
  "metadata": {
    "colab": {
      "provenance": []
    },
    "kernelspec": {
      "display_name": "Python 3",
      "language": "python",
      "name": "python3"
    },
    "language_info": {
      "codemirror_mode": {
        "name": "ipython",
        "version": 3
      },
      "file_extension": ".py",
      "mimetype": "text/x-python",
      "name": "python",
      "nbconvert_exporter": "python",
      "pygments_lexer": "ipython3",
      "version": "3.6.9"
    }
  },
  "nbformat": 4,
  "nbformat_minor": 0
}